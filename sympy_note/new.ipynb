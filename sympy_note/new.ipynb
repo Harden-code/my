{
 "cells": [
  {
   "cell_type": "markdown",
   "id": "e367f775",
   "metadata": {},
   "source": [
    "from sympy.calculus.util import continuous_domain 计算定义域,注意第三个参数范围\n",
    "idiff 求解隐函数导数\n",
    "div 除法\n",
    "rewrite 重写表达式比如 sinh\n",
    "MatrixSymbol 矩阵符号\n",
    "\n",
    "poly = Poly(3*x**2 + 2*x + 1, x)\n",
    "\n",
    "#提取所有项（按 (系数, 幂次) 形式）\n",
    "terms = poly.terms()  # 返回: [(3, 2), (2, 1), (1, 0)]\n",
    "\n",
    "#获取 x² 的系数 coeff_monomial\n",
    "coeff = poly.coeff(x**2)  # 返回: 3\n",
    "\n",
    "denom方法获取分母\n",
    "\n",
    "as_numer_denom 提取分母\n",
    "\n",
    "fraction 强制提取\n",
    "\n",
    "sp.Poly(eclipse).clear_denoms() 清空分母\n",
    "\n",
    "Poly.all_coeffs 系数\n",
    "Poly.monoms 次数\n",
    "as_ordered_terms 提取项\n",
    "\n",
    "\n",
    "https://docs.sympy.org/latest/modules/polys/reference.html#sympy.polys.polytools.Poly"
   ]
  }
 ],
 "metadata": {
  "language_info": {
   "name": "python"
  }
 },
 "nbformat": 4,
 "nbformat_minor": 5
}

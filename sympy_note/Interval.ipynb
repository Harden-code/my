{
 "cells": [
  {
   "cell_type": "markdown",
   "id": "fab94cca",
   "metadata": {},
   "source": [
    "doc https://docs.sympy.org/latest/modules/sets.html#sympy.sets.sets.Interval\n"
   ]
  }
 ],
 "metadata": {
  "language_info": {
   "name": "python"
  }
 },
 "nbformat": 4,
 "nbformat_minor": 5
}

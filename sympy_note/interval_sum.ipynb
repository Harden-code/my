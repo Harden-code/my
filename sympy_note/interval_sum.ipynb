{
 "cells": [
  {
   "cell_type": "code",
   "execution_count": 64,
   "id": "543087f4",
   "metadata": {},
   "outputs": [],
   "source": [
    "from sympy import *"
   ]
  },
  {
   "cell_type": "markdown",
   "id": "fab94cca",
   "metadata": {},
   "source": [
    "### Interval\n",
    "Set不像数据结构里的容器存储单个元素,它是实数区间的抽象类\n",
    "- Interval\n",
    "- FiniteSet 有限集\n",
    "- EmptySet 空集\n",
    "- UniversalSet 全集\n",
    "- Union 并集\n",
    "- Intersection 交集\n",
    "- Complement 补集 \n",
    "\n",
    "基础属性\n",
    "- boundary 边界\n",
    "- inf 最小值\n",
    "- interior 内部属性\n",
    "\n",
    "相关方法\n",
    "- complement 补集\n",
    "- intersect 交集\n",
    "- is_disjoint 相交\n",
    "- contains 包含可以用in关键字\n",
    "\n",
    "\n",
    "Doc https://docs.sympy.org/latest/modules/sets.html#sympy.sets.sets.Interval"
   ]
  },
  {
   "cell_type": "code",
   "execution_count": null,
   "id": "3b0428d7",
   "metadata": {},
   "outputs": [
    {
     "data": {
      "text/plain": [
       "({0, 1}, {0})"
      ]
     },
     "execution_count": 77,
     "metadata": {},
     "output_type": "execute_result"
    }
   ],
   "source": [
    "# 边界属性\n",
    "Interval(0,1).boundary,Interval(0,oo).boundary"
   ]
  },
  {
   "cell_type": "code",
   "execution_count": 85,
   "id": "c6a5c18b",
   "metadata": {},
   "outputs": [
    {
     "data": {
      "text/plain": [
       "(0, Interval.open(0, 1), 1, 0, 1)"
      ]
     },
     "execution_count": 85,
     "metadata": {},
     "output_type": "execute_result"
    }
   ],
   "source": [
    "# 基础属性\n",
    "it=Interval(0, 1)\n",
    "it.inf,it.interior,it.sup,it.left,it.right"
   ]
  },
  {
   "cell_type": "code",
   "execution_count": 72,
   "id": "76a77996",
   "metadata": {},
   "outputs": [
    {
     "data": {
      "text/latex": [
       "$\\displaystyle \\left\\{3\\right\\}$"
      ],
      "text/plain": [
       "{3}"
      ]
     },
     "execution_count": 72,
     "metadata": {},
     "output_type": "execute_result"
    }
   ],
   "source": [
    "# 并集\n",
    "lt3=Interval(3, oo,left_open=True)\n",
    "lt4=Interval(4, oo)\n",
    "new=Union(lt3,lt4)\n",
    "lt3|lt4\n",
    "new.boundary"
   ]
  },
  {
   "cell_type": "markdown",
   "id": "b3aec430",
   "metadata": {},
   "source": [
    "### Sum\n",
    "Doc\n",
    "https://docs.sympy.org/latest/modules/concrete.html#sympy.concrete.summations.Sum\n",
    "\n",
    "\n",
    "Sum represents a finite or infinite series, with the first argument being the general form of terms in the series, and the second argument being (dummy_variable, start, end), with dummy_variable taking all integer values from start through end\n"
   ]
  },
  {
   "cell_type": "code",
   "execution_count": 46,
   "id": "4da5fea3",
   "metadata": {},
   "outputs": [],
   "source": [
    "x,n,m = symbols('x n m')"
   ]
  },
  {
   "cell_type": "code",
   "execution_count": null,
   "id": "2e1e5136",
   "metadata": {},
   "outputs": [
    {
     "data": {
      "text/latex": [
       "$\\displaystyle 6$"
      ],
      "text/plain": [
       "6"
      ]
     },
     "execution_count": 14,
     "metadata": {},
     "output_type": "execute_result"
    }
   ],
   "source": [
    "# 阶乘\n",
    "factorial(n)"
   ]
  },
  {
   "cell_type": "code",
   "execution_count": 17,
   "id": "df0f97bf",
   "metadata": {},
   "outputs": [
    {
     "data": {
      "text/latex": [
       "$\\displaystyle {\\binom{n}{x}}$"
      ],
      "text/plain": [
       "binomial(n, x)"
      ]
     },
     "execution_count": 17,
     "metadata": {},
     "output_type": "execute_result"
    }
   ],
   "source": [
    "# 二项式系数\n",
    "binomial(n,x)"
   ]
  },
  {
   "cell_type": "code",
   "execution_count": null,
   "id": "2dba108a",
   "metadata": {},
   "outputs": [
    {
     "data": {
      "text/latex": [
       "$\\displaystyle \\sum_{x=0}^{n} f{\\left(x \\right)}$"
      ],
      "text/plain": [
       "Sum(f(x), (x, 0, n))"
      ]
     },
     "execution_count": 34,
     "metadata": {},
     "output_type": "execute_result"
    }
   ],
   "source": [
    "f=symbols('f',cls=Function)\n",
    "# 累积求和\n",
    "Sum(f(x), (x, 0, n))"
   ]
  },
  {
   "cell_type": "code",
   "execution_count": 61,
   "id": "42598f02",
   "metadata": {},
   "outputs": [
    {
     "data": {
      "text/latex": [
       "$\\displaystyle \\sum_{\\substack{0 \\leq m \\leq 10\\\\0 \\leq n \\leq 10}} f{\\left(m + n \\right)}$"
      ],
      "text/plain": [
       "Sum(f(m + n), (m, 0, 10), (n, 0, 10))"
      ]
     },
     "execution_count": 61,
     "metadata": {},
     "output_type": "execute_result"
    }
   ],
   "source": [
    "# 双向累积求和\n",
    "# Sum(m+n, (m, 0, 10))\n",
    "Sum(Sum(f(m+n), (m, 0, 10)), (n, 0, 10))"
   ]
  },
  {
   "cell_type": "code",
   "execution_count": null,
   "id": "7de6e1d5",
   "metadata": {},
   "outputs": [
    {
     "data": {
      "text/latex": [
       "$\\displaystyle \\prod_{x=0}^{n} f{\\left(x \\right)}$"
      ],
      "text/plain": [
       "Product(f(x), (x, 0, n))"
      ]
     },
     "execution_count": 62,
     "metadata": {},
     "output_type": "execute_result"
    }
   ],
   "source": [
    "# 累积乘积\n",
    "Product(f(x), (x, 0, n))"
   ]
  },
  {
   "cell_type": "markdown",
   "id": "382a56e2",
   "metadata": {},
   "source": [
    "### S\n",
    "\n",
    "It holds all singleton classes as attributes. Some special classes in SymPy are singletonized, meaning that there is always exactly one instance of them. This is an optimization that allows saving memory. For instance, there is only ever one instance of Integer(0), which is available as S.Zero.\n",
    "\n",
    "It serves as a shorthand for sympify(), that is S(a) is the same as sympify(a). This is useful for converting integers to SymPy Integers in expressions to avoid dividing Python ints"
   ]
  },
  {
   "cell_type": "code",
   "execution_count": null,
   "id": "ec505611",
   "metadata": {},
   "outputs": [
    {
     "name": "stdout",
     "output_type": "stream",
     "text": [
      "ℝ\n",
      "ℤ\n",
      "ℕ\n",
      "ℂ\n",
      "ℚ\n",
      "ⅈ\n",
      "∅\n",
      "𝕌\n",
      "-∞\n",
      "∞\n",
      "nan\n",
      "π\n",
      "ℯ\n",
      "1/2\n",
      "0\n",
      "1\n"
     ]
    }
   ],
   "source": [
    "# 集合\n",
    "pprint(S.EmptySet) # 空集\n",
    "pprint(S.UniversalSet) # 全集\n",
    "pprint(S.Reals) # 实数集合\n",
    "pprint(S.Integers)  #整数集合\n",
    "pprint(S.Naturals)  #自然数集合\n",
    "pprint(S.Naturals0) #非负自然数集合\n",
    "pprint(S.Complexes) #复数集合\n",
    "pprint(S.Rationals) #有理数集合\n",
    "pprint(S.ImaginaryUnit) #虚数单位\n",
    "# 常用数学常量\n",
    "pprint(S.NegativeInfinity) # 负无穷\n",
    "pprint(S.Infinity) # 正无穷\n",
    "pprint(S.NaN) # 非数\n",
    "pprint(S.Pi) # 圆周率\n",
    "pprint(S.Exp1) # 自然对数的底数\n",
    "pprint(S.Half) # 1/2\n",
    "pprint(S.Zero) # 零\n",
    "pprint(S.One) # 一"
   ]
  },
  {
   "cell_type": "code",
   "execution_count": 32,
   "id": "9df61b99",
   "metadata": {},
   "outputs": [
    {
     "data": {
      "text/plain": [
       "(0.3333333333333333, 1/3)"
      ]
     },
     "execution_count": 32,
     "metadata": {},
     "output_type": "execute_result"
    }
   ],
   "source": [
    "# 精确有理数\n",
    "1/3,S(1)/3"
   ]
  },
  {
   "cell_type": "code",
   "execution_count": null,
   "id": "e2729c3a",
   "metadata": {},
   "outputs": [
    {
     "data": {
      "text/latex": [
       "$\\displaystyle a$"
      ],
      "text/plain": [
       "a"
      ]
     },
     "execution_count": 33,
     "metadata": {},
     "output_type": "execute_result"
    }
   ],
   "source": [
    "# 代替symbols \n",
    "a=S('a')\n",
    "a"
   ]
  }
 ],
 "metadata": {
  "kernelspec": {
   "display_name": "base",
   "language": "python",
   "name": "python3"
  },
  "language_info": {
   "codemirror_mode": {
    "name": "ipython",
    "version": 3
   },
   "file_extension": ".py",
   "mimetype": "text/x-python",
   "name": "python",
   "nbconvert_exporter": "python",
   "pygments_lexer": "ipython3",
   "version": "3.11.5"
  }
 },
 "nbformat": 4,
 "nbformat_minor": 5
}

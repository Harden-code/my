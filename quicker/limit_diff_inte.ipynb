{
 "cells": [
  {
   "cell_type": "code",
   "execution_count": 1,
   "id": "845703d2",
   "metadata": {},
   "outputs": [],
   "source": [
    "from sympy import *\n",
    "import numpy as np\n",
    "from sympy.abc import x, y, z, t, u, v, w\n",
    "import matplotlib.pyplot as plt\n",
    "from matplotlib.patches import RegularPolygon, Circle"
   ]
  },
  {
   "cell_type": "markdown",
   "id": "1ae1d23d",
   "metadata": {},
   "source": [
    "**微积分研究极限的**,后面的微分跟积分的定义都离不开极限.\n",
    "\n",
    "### 极限\n",
    "1. 历史背景产生的数学危机\n",
    "\n",
    "2. 极限的定义($\\epsilon-\\delta$表达方式)o\n",
    "    - 通俗定义:$\\lim\\limits_{x \\to c} f(x)=L$,当x与c间的距离足够小,但不等于c时,f(x)与L间的距离可以任意小\n",
    "    - 严格定义(表述是一个动态过程,选择任意$\\delta$当作误差值与任意的$\\epsilon$来进行计算):\n",
    "        > 根据误差值$\\epsilon$来求出逼近的值$\\delta$\n",
    "    - 单侧极限(函数可能有跳跃点)\n",
    "\n",
    "3. 数列极限\n",
    "\n",
    "4. 函数极限\n",
    "\n",
    "5. 极限的性质\n",
    "    - 无穷大/无穷小\n",
    "\n",
    "6. 极限的运算\n",
    "    - 求函数极限\n",
    "        - $f(x)=\\frac{x^2-1}{x-1}$函数趋近于1的极限时,$\\lim\\limits_{n\\to1} \\frac{x^2-1}{x-1}$,根据极限的定义,**函数趋近于但不等于该值**所以可以把上面的式子进行化简\n",
    "\n",
    "\n",
    "\n",
    "7. 函数的连续性\n",
    "\n",
    "\n"
   ]
  },
  {
   "cell_type": "code",
   "execution_count": null,
   "id": "c6eefe84",
   "metadata": {},
   "outputs": [
    {
     "data": {
      "text/plain": [
       "True"
      ]
     },
     "execution_count": 30,
     "metadata": {},
     "output_type": "execute_result"
    }
   ],
   "source": [
    "from sympy.calculus.util import continuous_domain\n",
    "\n",
    "domain=continuous_domain((x**2-1), x, S.Reals)\n",
    "\n",
    "def domain_to_np(domain):\n",
    "    \"\"\"\n",
    "    Convert a sympy domain to a numpy array\n",
    "    \"\"\"\n",
    "    if domain.is_Interval:\n",
    "        if domain.end==-oo :\n",
    "            domain.end=-10     \n",
    "        if domain.end==oo :\n",
    "            domain.end=10     \n",
    "        if domain.start==-oo :\n",
    "            domain.start=-10     \n",
    "        if domain.start==oo :\n",
    "            domain.start=10     \n",
    "        return np.array([domain.start, domain.end])\n",
    "        return np.linspace(domain.start, domain.end, 100)\n",
    "    elif domain.is_Union:\n",
    "        return np.concatenate([domain_to_np(d) for d in domain.args])\n",
    "    elif domain.is_FiniteSet:\n",
    "        return np.array(list(domain))\n",
    "    else:\n",
    "        raise ValueError(\"Unsupported domain type: {}\".format(type(domain)))\n",
    "\n",
    "\n",
    "Interval(1,1).is_FiniteSet"
   ]
  },
  {
   "cell_type": "code",
   "execution_count": 25,
   "id": "ff2c085c",
   "metadata": {},
   "outputs": [
    {
     "data": {
      "text/plain": [
       "True"
      ]
     },
     "execution_count": 25,
     "metadata": {},
     "output_type": "execute_result"
    }
   ],
   "source": [
    "domain.args[0].start==-oo"
   ]
  },
  {
   "cell_type": "code",
   "execution_count": null,
   "id": "b429be04",
   "metadata": {},
   "outputs": [
    {
     "data": {
      "image/png": "[encoded data removed]",
      "text/plain": [
       "<Figure size 640x480 with 1 Axes>"
      ]
     },
     "metadata": {},
     "output_type": "display_data"
    }
   ],
   "source": [
    "# 内接和外切正多边形,近似圆\n",
    "fig,ax=plt.subplots()\n",
    "n=10\n",
    "r=1\n",
    "inner=RegularPolygon((0,0),radius=r,numVertices=n,alpha=0.7)\n",
    "angle=np.pi/n\n",
    "out_r=np.divide(r,np.cos(angle))\n",
    "out=RegularPolygon((0,0),radius=out_r,numVertices=n,alpha=0.6,facecolor='black')\n",
    "circle=Circle((0,0),radius=r,alpha=0.5,facecolor='red')\n",
    "ax.add_patch(inner)\n",
    "ax.add_patch(circle)\n",
    "ax.add_patch(out)\n",
    "ax.set_xlim(-1.5*r,1.5*r)\n",
    "ax.set_ylim(-1.5*r,1.5*r)\n",
    "ax.set_aspect('equal')"
   ]
  },
  {
   "cell_type": "markdown",
   "id": "08fb8fd3",
   "metadata": {},
   "source": [
    "### 微分\n",
    "1. 泰勒多项式\n",
    "\n",
    "2. 导数/微分\n",
    "\n",
    "3. 微分的运算\n",
    "    - 加减法\n",
    "    - 乘法\n",
    "    - 除法\n",
    "    - 复合函数\n",
    "\n",
    "4. 隐函数导数\n",
    "\n",
    "5. 参数方程的导数\n",
    "\n",
    "6. 高阶导数\n",
    "\n",
    "7. 中值定理\n",
    "    - 费马引理\n",
    "    - 罗尔中值定理\n",
    "    - 拉格朗日中值定理\n",
    "    - 柯西中值定理\n",
    "8. 微分与近似值计算\n",
    "9. 微分应用\n",
    "    - 极值的运算\n",
    "    - 函数的凹凸性\n",
    "    - 反曲点"
   ]
  },
  {
   "cell_type": "markdown",
   "id": "d428dd9c",
   "metadata": {},
   "source": [
    "### 积分\n",
    "1. 黎曼积\n",
    "\n",
    "2. 积分的定理\n",
    "\n",
    "3. 不定积分运算\n",
    "\n",
    "4. 定积分\n",
    "\n",
    "5. 微积分第一定理/微积分第二定理\n",
    "\n",
    "6. 积分的应用\n",
    "    - 求面积\n",
    "    - 求体积\n",
    "    - 概率里的应用"
   ]
  },
  {
   "cell_type": "markdown",
   "id": "b9f3f546",
   "metadata": {},
   "source": [
    "泰勒多项式推导以a为参考点的推导->以0为参考点的推导"
   ]
  },
  {
   "cell_type": "code",
   "execution_count": 3,
   "id": "f3564d4f",
   "metadata": {},
   "outputs": [
    {
     "data": {
      "text/latex": [
       "$\\displaystyle - \\frac{x}{\\sqrt{25 - x^{2}}}$"
      ],
      "text/plain": [
       "-x/sqrt(25 - x**2)"
      ]
     },
     "execution_count": 3,
     "metadata": {},
     "output_type": "execute_result"
    }
   ],
   "source": [
    "expr=sqrt(25-x**2)\n",
    "expr.diff(x)"
   ]
  },
  {
   "cell_type": "code",
   "execution_count": 15,
   "id": "ad887838",
   "metadata": {},
   "outputs": [
    {
     "data": {
      "text/latex": [
       "$\\displaystyle \\left(x - 1\\right) \\left(x^{2} + 3 x + 6\\right) + 10$"
      ],
      "text/plain": [
       "(x - 1)*(x**2 + 3*x + 6) + 10"
      ]
     },
     "execution_count": 15,
     "metadata": {},
     "output_type": "execute_result"
    }
   ],
   "source": [
    "expr=x**3+2*x**2+3*x+4\n",
    "d=(x-1)\n",
    "expr\n",
    "quotient,remainder=div(expr,d)\n",
    "quotient*d+remainder"
   ]
  },
  {
   "cell_type": "code",
   "execution_count": 16,
   "id": "0bb22e2c",
   "metadata": {},
   "outputs": [
    {
     "data": {
      "text/plain": [
       "(x + 4, 10)"
      ]
     },
     "execution_count": 16,
     "metadata": {},
     "output_type": "execute_result"
    }
   ],
   "source": [
    "div(quotient,d)"
   ]
  }
 ],
 "metadata": {
  "kernelspec": {
   "display_name": "base",
   "language": "python",
   "name": "python3"
  },
  "language_info": {
   "codemirror_mode": {
    "name": "ipython",
    "version": 3
   },
   "file_extension": ".py",
   "mimetype": "text/x-python",
   "name": "python",
   "nbconvert_exporter": "python",
   "pygments_lexer": "ipython3",
   "version": "3.11.5"
  }
 },
 "nbformat": 4,
 "nbformat_minor": 5
}

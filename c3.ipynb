{
 "cells": [
  {
   "cell_type": "code",
   "execution_count": 1,
   "id": "c1ceee2a",
   "metadata": {},
   "outputs": [],
   "source": [
    "from sympy import *"
   ]
  },
  {
   "cell_type": "code",
   "execution_count": 2,
   "id": "fce4ca62",
   "metadata": {},
   "outputs": [
    {
     "data": {
      "text/latex": [
       "$\\displaystyle - 2 a \\left(r_{1} + r_{2} + r_{3} - 3 x\\right)$"
      ],
      "text/plain": [
       "-2*a*(r1 + r2 + r3 - 3*x)"
      ]
     },
     "execution_count": 2,
     "metadata": {},
     "output_type": "execute_result"
    }
   ],
   "source": [
    "a,x,r1,r2,r3=symbols('a,x,r1,r2,r3')\n",
    "\n",
    "expr=a*(x-r1)*(x-r2)*(x-r3)\n",
    "\n",
    "diff(expr,x,2)"
   ]
  },
  {
   "cell_type": "code",
   "execution_count": 16,
   "id": "a1f1d0d1",
   "metadata": {},
   "outputs": [
    {
     "data": {
      "text/latex": [
       "$\\displaystyle \\frac{2 \\left(1 - 3 x^{2}\\right)}{x^{6} + 3 x^{4} + 3 x^{2} + 1}$"
      ],
      "text/plain": [
       "2*(1 - 3*x**2)/(x**6 + 3*x**4 + 3*x**2 + 1)"
      ]
     },
     "execution_count": 16,
     "metadata": {},
     "output_type": "execute_result"
    }
   ],
   "source": [
    "expr1=x**2/(x**2+1)\n",
    "\n",
    "temp=simplify(diff(expr1,x))\n",
    "\n",
    "simplify(diff(temp,x))"
   ]
  },
  {
   "cell_type": "code",
   "execution_count": 18,
   "id": "8efa743c",
   "metadata": {},
   "outputs": [
    {
     "data": {
      "text/latex": [
       "$\\displaystyle 1.73205080756888$"
      ],
      "text/plain": [
       "1.73205080756888"
      ]
     },
     "execution_count": 18,
     "metadata": {},
     "output_type": "execute_result"
    }
   ],
   "source": [
    "sqrt(3).evalf()"
   ]
  },
  {
   "cell_type": "code",
   "execution_count": 25,
   "id": "adcb9f10",
   "metadata": {},
   "outputs": [
    {
     "data": {
      "text/latex": [
       "$\\displaystyle A x^{2} + B x + C$"
      ],
      "text/plain": [
       "A*x**2 + B*x + C"
      ]
     },
     "execution_count": 25,
     "metadata": {},
     "output_type": "execute_result"
    }
   ],
   "source": [
    "A,B,C,D=symbols('A,B,C,D')\n",
    "\n",
    "expr3=A*x**2+B*x+C\n",
    "\n",
    "solve(expr3,x)[0]\n",
    "expr3"
   ]
  },
  {
   "cell_type": "code",
   "execution_count": null,
   "id": "0a5eb44a",
   "metadata": {},
   "outputs": [
    {
     "data": {
      "text/latex": [
       "$\\displaystyle A x^{3} + B x^{2} + C x + D$"
      ],
      "text/plain": [
       "A*x**3 + B*x**2 + C*x + D"
      ]
     },
     "execution_count": 27,
     "metadata": {},
     "output_type": "execute_result"
    }
   ],
   "source": [
    "\n",
    "expr4=A*x**3+B*x**2+C*x+D\n",
    "expr4"
   ]
  },
  {
   "cell_type": "code",
   "execution_count": 30,
   "id": "5fda0b20",
   "metadata": {},
   "outputs": [
    {
     "data": {
      "text/latex": [
       "$\\displaystyle 3 A x^{2} + 2 B x + C$"
      ],
      "text/plain": [
       "3*A*x**2 + 2*B*x + C"
      ]
     },
     "execution_count": 30,
     "metadata": {},
     "output_type": "execute_result"
    }
   ],
   "source": [
    "diff4=diff(expr4,x)\n",
    "diff4"
   ]
  },
  {
   "cell_type": "code",
   "execution_count": 32,
   "id": "667dd996",
   "metadata": {},
   "outputs": [
    {
     "data": {
      "text/plain": [
       "[(-B - sqrt(-3*A*C + B**2))/(3*A), (-B + sqrt(-3*A*C + B**2))/(3*A)]"
      ]
     },
     "execution_count": 32,
     "metadata": {},
     "output_type": "execute_result"
    }
   ],
   "source": [
    "solve(diff4,x)"
   ]
  },
  {
   "cell_type": "code",
   "execution_count": 33,
   "id": "f0675064",
   "metadata": {},
   "outputs": [
    {
     "data": {
      "text/latex": [
       "$\\displaystyle x^{2} + 3 x$"
      ],
      "text/plain": [
       "x**2 + 3*x"
      ]
     },
     "execution_count": 33,
     "metadata": {},
     "output_type": "execute_result"
    }
   ],
   "source": [
    "expr5=x**2+3*x\n",
    "expr5"
   ]
  },
  {
   "cell_type": "code",
   "execution_count": 59,
   "id": "a7b21e8e",
   "metadata": {},
   "outputs": [
    {
     "data": {
      "text/latex": [
       "$\\displaystyle 7 x + \\left(x - 2\\right)^{2} - 4$"
      ],
      "text/plain": [
       "7*x + (x - 2)**2 - 4"
      ]
     },
     "execution_count": 59,
     "metadata": {},
     "output_type": "execute_result"
    }
   ],
   "source": [
    "# 在除法(x-2)\n",
    "series(expr5,x,2)\n"
   ]
  }
 ],
 "metadata": {
  "kernelspec": {
   "display_name": "base",
   "language": "python",
   "name": "python3"
  },
  "language_info": {
   "codemirror_mode": {
    "name": "ipython",
    "version": 3
   },
   "file_extension": ".py",
   "mimetype": "text/x-python",
   "name": "python",
   "nbconvert_exporter": "python",
   "pygments_lexer": "ipython3",
   "version": "3.12.7"
  }
 },
 "nbformat": 4,
 "nbformat_minor": 5
}

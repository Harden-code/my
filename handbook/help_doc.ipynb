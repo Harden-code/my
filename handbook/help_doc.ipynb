{
 "cells": [
  {
   "cell_type": "markdown",
   "id": "d62b2f4a",
   "metadata": {},
   "source": [
    "### Help Document (ipython)\n",
    "2. `?`返回方法描述\n",
    "3. `??`返回源代码,如果是内嵌的方法会与`?`返回的一样\n",
    "4. `*Warning?` 通配符(wildcard matching)`?`不能省去"
   ]
  },
  {
   "cell_type": "code",
   "execution_count": 2,
   "id": "e9c08e18",
   "metadata": {},
   "outputs": [
    {
     "name": "stdout",
     "output_type": "stream",
     "text": [
      "\u001b[0;31mSignature:\u001b[0m \u001b[0mlen\u001b[0m\u001b[0;34m(\u001b[0m\u001b[0mobj\u001b[0m\u001b[0;34m,\u001b[0m \u001b[0;34m/\u001b[0m\u001b[0;34m)\u001b[0m\u001b[0;34m\u001b[0m\u001b[0;34m\u001b[0m\u001b[0m\n",
      "\u001b[0;31mDocstring:\u001b[0m Return the number of items in a container.\n",
      "\u001b[0;31mType:\u001b[0m      builtin_function_or_method"
     ]
    }
   ],
   "source": [
    "len?"
   ]
  },
  {
   "cell_type": "code",
   "execution_count": 5,
   "id": "d59e65ae",
   "metadata": {},
   "outputs": [
    {
     "name": "stdout",
     "output_type": "stream",
     "text": [
      "math.gamma\n",
      "math.lgamma"
     ]
    }
   ],
   "source": [
    "import math\n",
    "math.*a?"
   ]
  },
  {
   "cell_type": "code",
   "execution_count": 1,
   "id": "468c5f55",
   "metadata": {},
   "outputs": [
    {
     "name": "stdout",
     "output_type": "stream",
     "text": [
      "BytesWarning\n",
      "DeprecationWarning\n",
      "EncodingWarning\n",
      "FutureWarning\n",
      "ImportWarning\n",
      "PendingDeprecationWarning\n",
      "ResourceWarning\n",
      "RuntimeWarning\n",
      "SyntaxWarning\n",
      "UnicodeWarning\n",
      "UserWarning\n",
      "Warning"
     ]
    }
   ],
   "source": [
    "*Warning?"
   ]
  },
  {
   "cell_type": "markdown",
   "id": "2ed25431",
   "metadata": {},
   "source": [
    "### 魔法方法"
   ]
  },
  {
   "cell_type": "code",
   "execution_count": 13,
   "id": "e98b1217",
   "metadata": {},
   "outputs": [
    {
     "name": "stdout",
     "output_type": "stream",
     "text": [
      "\u001b[0;31mDocstring:\u001b[0m\n",
      "Shell execute - run shell command and capture output (!! is short-hand).\n",
      "\n",
      "%sx command\n",
      "\n",
      "IPython will run the given command using commands.getoutput(), and\n",
      "return the result formatted as a list (split on '\\n').  Since the\n",
      "output is _returned_, it will be stored in ipython's regular output\n",
      "cache Out[N] and in the '_N' automatic variables.\n",
      "\n",
      "Notes:\n",
      "\n",
      "1) If an input line begins with '!!', then %sx is automatically\n",
      "invoked.  That is, while::\n",
      "\n",
      "  !ls\n",
      "\n",
      "causes ipython to simply issue system('ls'), typing::\n",
      "\n",
      "  !!ls\n",
      "\n",
      "is a shorthand equivalent to::\n",
      "\n",
      "  %sx ls\n",
      "\n",
      "2) %sx differs from %sc in that %sx automatically splits into a list,\n",
      "like '%sc -l'.  The reason for this is to make it as easy as possible\n",
      "to process line-oriented shell output via further python commands.\n",
      "%sc is meant to provide much finer control, but requires more\n",
      "typing.\n",
      "\n",
      "3) Just like %sc -l, this is a list with special attributes:\n",
      "::\n",
      "\n",
      "  .l (or .list) : value as list.\n",
      "  .n (or .nlstr): value as newline-separated string.\n",
      "  .s (or .spstr): value as whitespace-separated string.\n",
      "\n",
      "This is very useful when trying to use such lists as arguments to\n",
      "system commands.\n",
      "\u001b[0;31mFile:\u001b[0m      ~/anaconda3/lib/python3.11/site-packages/IPython/core/magics/osm.py"
     ]
    }
   ],
   "source": [
    "%system?"
   ]
  }
 ],
 "metadata": {
  "kernelspec": {
   "display_name": "base",
   "language": "python",
   "name": "python3"
  },
  "language_info": {
   "codemirror_mode": {
    "name": "ipython",
    "version": 3
   },
   "file_extension": ".py",
   "mimetype": "text/x-python",
   "name": "python",
   "nbconvert_exporter": "python",
   "pygments_lexer": "ipython3",
   "version": "3.11.5"
  }
 },
 "nbformat": 4,
 "nbformat_minor": 5
}
